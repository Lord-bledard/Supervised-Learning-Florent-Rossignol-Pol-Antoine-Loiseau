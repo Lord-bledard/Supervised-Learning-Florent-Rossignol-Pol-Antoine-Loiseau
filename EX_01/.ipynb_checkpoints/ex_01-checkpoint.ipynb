{
 "cells": [
  {
   "cell_type": "markdown",
   "metadata": {},
   "source": [
    "### Part 1: Artificial Dataset Generation \n",
    "\n",
    "\n",
    "The goal of this first part is to generate a numerical dataset containing 300 lines and 6 columns named artificial_dataset.csv."
   ]
  },
  {
   "cell_type": "markdown",
   "metadata": {},
   "source": [
    "# Requirements:\n",
    "\n",
    "- Each column must have a different mean.\n",
    "- Each column must have a different standard deviation.\n",
    "- At least one column should contain integers.\n",
    "- At least one column should contain floats.\n",
    "- One column must have a mean close to 2.5.\n",
    "- Some columns must be positively correlated.\n",
    "- Some columns must be negatively correlated.\n",
    "- Some columns must have a correlation close to 0."
   ]
  },
  {
   "cell_type": "code",
   "execution_count": 7,
   "metadata": {},
   "outputs": [],
   "source": [
    "import numpy as np\n",
    "import pandas as pd\n",
    "from pandas.core.frame import DataFrame\n",
    "from typing import Tuple\n",
    "\n",
    "# Set a random seed for reproducibility\n",
    "np.random.seed(57)\n",
    "\n",
    "# Function to generate artificial dataset\n",
    "def generate_artificial_dataset() -> DataFrame:\n",
    "    # Define dataset properties\n",
    "    num_rows: int = 300\n",
    "    num_columns: int = 6\n",
    "\n",
    "    # Create an empty dataframe\n",
    "    dataset: DataFrame = pd.DataFrame()\n",
    "\n",
    "    # Generate columns with different means and standard deviations\n",
    "    for i in range(num_columns):\n",
    "        mean: float = np.random.uniform(0, 10)\n",
    "        std_dev: float = np.random.uniform(0.5, 5)\n",
    "\n",
    "        # Determine column type (integer or float)\n",
    "        column_type: str = np.random.choice(['int', 'float'])\n",
    "\n",
    "        # Generate column data based on type\n",
    "        if column_type == 'int':\n",
    "            column_data = np.random.randint(0, 100, size=num_rows)\n",
    "        else:\n",
    "            column_data = np.random.uniform(0, 100, size=num_rows)\n",
    "\n",
    "        # Add column to the dataset\n",
    "        dataset[f'Column_{i+1}'] = column_data\n",
    "\n",
    "        # Apply mean and standard deviation to the column\n",
    "        dataset[f'Column_{i+1}'] = dataset[f'Column_{i+1}'] * std_dev + mean\n",
    "\n",
    "    # Add a column with a mean close to 2.5\n",
    "    dataset['Column_7'] = np.random.normal(2.5, 0.1, size=num_rows)\n",
    "\n",
    "    # Create positively correlated columns\n",
    "    dataset['Column_8'] = dataset['Column_1'] + np.random.normal(0, 2, size=num_rows)\n",
    "\n",
    "    # Create negatively correlated columns\n",
    "    dataset['Column_9'] = -dataset['Column_2'] + np.random.normal(0, 2, size=num_rows)\n",
    "\n",
    "    # Create columns with correlation close to 0\n",
    "    dataset['Column_10'] = np.random.normal(0, 1, size=num_rows)\n",
    "    dataset['Column_11'] = np.random.normal(0, 1, size=num_rows)\n",
    "\n",
    "    return dataset\n",
    "\n",
    "# Generate the artificial dataset\n",
    "artificial_data: DataFrame = generate_artificial_dataset()\n",
    "\n",
    "# Save the dataset to a CSV file\n",
    "artificial_data.to_csv('artificial_dataset.csv', index=False)\n"
   ]
  },
  {
   "cell_type": "markdown",
   "metadata": {},
   "source": [
    "Pol-Antoine Loiseau - Florent Rossignol"
   ]
  }
 ],
 "metadata": {
  "kernelspec": {
   "display_name": "Python 3 (ipykernel)",
   "language": "python",
   "name": "python3"
  },
  "language_info": {
   "codemirror_mode": {
    "name": "ipython",
    "version": 3
   },
   "file_extension": ".py",
   "mimetype": "text/x-python",
   "name": "python",
   "nbconvert_exporter": "python",
   "pygments_lexer": "ipython3",
   "version": "3.12.0"
  }
 },
 "nbformat": 4,
 "nbformat_minor": 4
}
